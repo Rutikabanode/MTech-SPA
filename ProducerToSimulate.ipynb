{
 "cells": [
  {
   "cell_type": "markdown",
   "id": "bde06d71",
   "metadata": {},
   "source": [
    "# 3)Python program for customer movement simulation"
   ]
  },
  {
   "cell_type": "code",
   "execution_count": 4,
   "id": "918d72e4",
   "metadata": {},
   "outputs": [
    {
     "name": "stdout",
     "output_type": "stream",
     "text": [
      "{\"busline\": \"00001\", \"key\": \"00001_67641b22-1ab5-4306-9856-ee78510411f2\", \"timestamp\": \"2022-02-28 16:54:58.269000\", \"latitude\": 18.5187, \"longitude\": 73.9342, \"custid\": 1, \"status\": \"BROKEN\"}\n",
      "{\"busline\": \"00001\", \"key\": \"00001_ae4e3d2e-e400-4537-99c0-e53145dbf12d\", \"timestamp\": \"2022-02-28 16:55:01.286164\", \"latitude\": 18.5196, \"longitude\": 73.9313, \"custid\": 2, \"status\": \"RUNNING\"}\n",
      "{\"busline\": \"00001\", \"key\": \"00001_92eb0fad-480d-4809-8791-ae5b281abfc5\", \"timestamp\": \"2022-02-28 16:55:04.299918\", \"latitude\": 18.5204, \"longitude\": 73.9399, \"custid\": 3, \"status\": \"RUNNING\"}\n",
      "{\"busline\": \"00001\", \"key\": \"00001_934ab32a-5cda-4998-814c-c733df281417\", \"timestamp\": \"2022-02-28 16:55:07.304099\", \"latitude\": 18.5621, \"longitude\": 73.9167, \"custid\": 4, \"status\": \"RUNNING\"}\n",
      "{\"busline\": \"00001\", \"key\": \"00001_a8698448-959a-4a6c-9f0a-79e16b1a3e7a\", \"timestamp\": \"2022-02-28 16:55:10.309212\", \"latitude\": 18.5246, \"longitude\": 73.9171, \"custid\": 5, \"status\": \"RUNNING\"}\n",
      "{\"busline\": \"00001\", \"key\": \"00001_41cc7315-1f73-4cf7-b164-d9efc964ea6a\", \"timestamp\": \"2022-02-28 16:55:13.317345\", \"latitude\": 18.5245, \"longitude\": 73.9163, \"custid\": 6, \"status\": \"RUNNING\"}\n",
      "{\"busline\": \"00001\", \"key\": \"00001_7c49aebd-5cf5-4c14-ad8c-f3c5e6f21430\", \"timestamp\": \"2022-02-28 16:55:16.333944\", \"latitude\": 18.5252, \"longitude\": 73.9157, \"custid\": 7, \"status\": \"RUNNING\"}\n",
      "{\"busline\": \"00001\", \"key\": \"00001_5fb5f28c-65a5-4fcd-9fde-d5d0dc26274f\", \"timestamp\": \"2022-02-28 16:55:19.350280\", \"latitude\": 18.5241, \"longitude\": 73.9169, \"custid\": 8, \"status\": \"RUNNING\"}\n",
      "{\"busline\": \"00001\", \"key\": \"00001_06154956-2526-481c-b809-0394ed2594eb\", \"timestamp\": \"2022-02-28 16:55:22.356253\", \"latitude\": 18.5237, \"longitude\": 73.9168, \"custid\": 9, \"status\": \"RUNNING\"}\n",
      "{\"busline\": \"00001\", \"key\": \"00001_132b0066-0d7a-40e4-99e3-6a9dcbeaa63f\", \"timestamp\": \"2022-02-28 16:55:25.361229\", \"latitude\": 18.5244, \"longitude\": 73.9179, \"custid\": 10, \"status\": \"RUNNING\"}\n",
      "{\"busline\": \"00001\", \"key\": \"00001_2c4b9cd8-d76b-489b-af1a-a776df352829\", \"timestamp\": \"2022-02-28 16:55:28.370262\", \"latitude\": 18.5245, \"longitude\": 73.9189, \"custid\": 11, \"status\": \"BROKEN\"}\n",
      "{\"busline\": \"00001\", \"key\": \"00001_103b1888-ab59-4307-9ab2-30cc3b02c47d\", \"timestamp\": \"2022-02-28 16:55:31.373577\", \"latitude\": 18.5187, \"longitude\": 73.9199, \"custid\": 12, \"status\": \"RUNNING\"}\n",
      "{\"busline\": \"00001\", \"key\": \"00001_ae1a9ef2-e6bd-4e47-a93c-774bbfc4a88b\", \"timestamp\": \"2022-02-28 16:55:34.384981\", \"latitude\": 18.5195, \"longitude\": 73.9313, \"custid\": 13, \"status\": \"RUNNING\"}\n",
      "{\"busline\": \"00001\", \"key\": \"00001_347ec15f-14f2-4533-ae84-bafd29146fa2\", \"timestamp\": \"2022-02-28 16:55:37.391980\", \"latitude\": 18.5287, \"longitude\": 73.9319, \"custid\": 14, \"status\": \"RUNNING\"}\n",
      "{\"busline\": \"00001\", \"key\": \"00001_d79469cf-847e-4bc1-a68b-07c61b1ee419\", \"timestamp\": \"2022-02-28 16:55:40.402916\", \"latitude\": 18.5197, \"longitude\": 73.9313, \"custid\": 15, \"status\": \"RUNNING\"}\n",
      "{\"busline\": \"00001\", \"key\": \"00001_1d6a2cc9-fcae-4e0d-aac7-398361eb5e01\", \"timestamp\": \"2022-02-28 16:55:43.412595\", \"latitude\": 18.5187, \"longitude\": 73.9313, \"custid\": 16, \"status\": \"RUNNING\"}\n",
      "{\"busline\": \"00001\", \"key\": \"00001_163cdbea-b771-4c74-9256-add9a7d47fec\", \"timestamp\": \"2022-02-28 16:55:46.427395\", \"latitude\": 18.5187, \"longitude\": 73.9313, \"custid\": 17, \"status\": \"RUNNING\"}\n",
      "{\"busline\": \"00001\", \"key\": \"00001_e354d027-a65c-4bda-90e5-c7e444829988\", \"timestamp\": \"2022-02-28 16:55:49.435014\", \"latitude\": 18.5187, \"longitude\": 73.9313, \"custid\": 18, \"status\": \"RUNNING\"}\n",
      "{\"busline\": \"00001\", \"key\": \"00001_1afd4c3f-85a5-4922-8c22-a9c185a42056\", \"timestamp\": \"2022-02-28 16:55:52.442654\", \"latitude\": 18.5187, \"longitude\": 73.9313, \"custid\": 19, \"status\": \"RUNNING\"}\n",
      "{\"busline\": \"00001\", \"key\": \"00001_100238cf-0419-4f70-bfea-758f2b3c557d\", \"timestamp\": \"2022-02-28 16:55:55.457187\", \"latitude\": 18.5187, \"longitude\": 73.9313, \"custid\": 20, \"status\": \"RUNNING\"}\n",
      "{\"busline\": \"00001\", \"key\": \"00001_8e2f16e9-78df-4f1b-a819-5603bd50ca4c\", \"timestamp\": \"2022-02-28 16:55:58.457282\", \"latitude\": 18.5187, \"longitude\": 73.9313, \"custid\": 21, \"status\": \"BROKEN\"}\n",
      "{\"busline\": \"00001\", \"key\": \"00001_c5150734-dca3-4521-ab7d-42557947e6a9\", \"timestamp\": \"2022-02-28 16:56:01.462351\", \"latitude\": 18.5187, \"longitude\": 73.9313, \"custid\": 22, \"status\": \"RUNNING\"}\n",
      "{\"busline\": \"00001\", \"key\": \"00001_1599062c-6511-4491-ad44-a34c230ede22\", \"timestamp\": \"2022-02-28 16:56:04.467189\", \"latitude\": 18.5187, \"longitude\": 73.9313, \"custid\": 23, \"status\": \"RUNNING\"}\n",
      "{\"busline\": \"00001\", \"key\": \"00001_2fcded0e-a71e-4571-a0c2-bb122d0dee6d\", \"timestamp\": \"2022-02-28 16:56:07.479207\", \"latitude\": 18.5187, \"longitude\": 73.9342, \"custid\": 1, \"status\": \"BROKEN\"}\n",
      "{\"busline\": \"00001\", \"key\": \"00001_05f6ff07-2fad-470c-b84c-fdd47cc112ad\", \"timestamp\": \"2022-02-28 16:56:10.491031\", \"latitude\": 18.5196, \"longitude\": 73.9313, \"custid\": 2, \"status\": \"RUNNING\"}\n",
      "{\"busline\": \"00001\", \"key\": \"00001_46c92cdf-ca02-4165-8299-edd1531eb1d6\", \"timestamp\": \"2022-02-28 16:56:13.507114\", \"latitude\": 18.5204, \"longitude\": 73.9399, \"custid\": 3, \"status\": \"RUNNING\"}\n",
      "{\"busline\": \"00001\", \"key\": \"00001_6d268490-7037-4551-895a-65e4d6452142\", \"timestamp\": \"2022-02-28 16:56:16.514078\", \"latitude\": 18.5621, \"longitude\": 73.9167, \"custid\": 4, \"status\": \"RUNNING\"}\n",
      "{\"busline\": \"00001\", \"key\": \"00001_f785415e-f4d1-481a-8d71-648efbc4e538\", \"timestamp\": \"2022-02-28 16:56:19.521697\", \"latitude\": 18.5246, \"longitude\": 73.9171, \"custid\": 5, \"status\": \"RUNNING\"}\n",
      "{\"busline\": \"00001\", \"key\": \"00001_f8d797d9-ea4d-4c10-91c0-cf6e5d8b2c6c\", \"timestamp\": \"2022-02-28 16:56:22.532401\", \"latitude\": 18.5245, \"longitude\": 73.9163, \"custid\": 6, \"status\": \"RUNNING\"}\n",
      "{\"busline\": \"00001\", \"key\": \"00001_ea5566a4-1da0-454b-8706-35923302e743\", \"timestamp\": \"2022-02-28 16:56:25.547101\", \"latitude\": 18.5252, \"longitude\": 73.9157, \"custid\": 7, \"status\": \"RUNNING\"}\n",
      "{\"busline\": \"00001\", \"key\": \"00001_32ea8684-0c3b-4172-ab6b-0eb38cda2b5a\", \"timestamp\": \"2022-02-28 16:56:28.551794\", \"latitude\": 18.5241, \"longitude\": 73.9169, \"custid\": 8, \"status\": \"RUNNING\"}\n",
      "{\"busline\": \"00001\", \"key\": \"00001_17de4d65-d686-412f-908d-f97f411310ab\", \"timestamp\": \"2022-02-28 16:56:31.562606\", \"latitude\": 18.5237, \"longitude\": 73.9168, \"custid\": 9, \"status\": \"RUNNING\"}\n",
      "{\"busline\": \"00001\", \"key\": \"00001_8ac5bb18-c15e-44f7-8567-f952503a7dde\", \"timestamp\": \"2022-02-28 16:56:34.574235\", \"latitude\": 18.5244, \"longitude\": 73.9179, \"custid\": 10, \"status\": \"RUNNING\"}\n",
      "{\"busline\": \"00001\", \"key\": \"00001_2df4c54a-6275-4da1-b5e6-c873e3b1449a\", \"timestamp\": \"2022-02-28 16:56:37.575890\", \"latitude\": 18.5245, \"longitude\": 73.9189, \"custid\": 11, \"status\": \"BROKEN\"}\n",
      "{\"busline\": \"00001\", \"key\": \"00001_b4e39702-9556-4d49-b21d-f466541893ca\", \"timestamp\": \"2022-02-28 16:56:40.592164\", \"latitude\": 18.5187, \"longitude\": 73.9199, \"custid\": 12, \"status\": \"RUNNING\"}\n",
      "{\"busline\": \"00001\", \"key\": \"00001_8972c130-b088-4da8-bd22-f6704734e5ef\", \"timestamp\": \"2022-02-28 16:56:43.608203\", \"latitude\": 18.5195, \"longitude\": 73.9313, \"custid\": 13, \"status\": \"RUNNING\"}\n",
      "{\"busline\": \"00001\", \"key\": \"00001_a9b21d1f-b0c0-471e-befc-8d03940963ea\", \"timestamp\": \"2022-02-28 16:56:46.616706\", \"latitude\": 18.5287, \"longitude\": 73.9319, \"custid\": 14, \"status\": \"RUNNING\"}\n",
      "{\"busline\": \"00001\", \"key\": \"00001_5bdd8f2f-6d51-414e-bd5f-251974bdb222\", \"timestamp\": \"2022-02-28 16:56:49.627845\", \"latitude\": 18.5197, \"longitude\": 73.9313, \"custid\": 15, \"status\": \"RUNNING\"}\n",
      "{\"busline\": \"00001\", \"key\": \"00001_e01aa649-18fb-4be3-b8b3-ee87c43895fa\", \"timestamp\": \"2022-02-28 16:56:52.634924\", \"latitude\": 18.5187, \"longitude\": 73.9313, \"custid\": 16, \"status\": \"RUNNING\"}\n",
      "{\"busline\": \"00001\", \"key\": \"00001_c4078455-f0ff-47b0-ba12-b3ee32754818\", \"timestamp\": \"2022-02-28 16:56:55.641276\", \"latitude\": 18.5187, \"longitude\": 73.9313, \"custid\": 17, \"status\": \"RUNNING\"}\n",
      "{\"busline\": \"00001\", \"key\": \"00001_80aa6b31-f698-4b49-b28b-25897fd77aae\", \"timestamp\": \"2022-02-28 16:56:58.649960\", \"latitude\": 18.5187, \"longitude\": 73.9313, \"custid\": 18, \"status\": \"RUNNING\"}\n",
      "{\"busline\": \"00001\", \"key\": \"00001_3be51114-1326-4728-a6ec-1f08747f3789\", \"timestamp\": \"2022-02-28 16:57:01.661181\", \"latitude\": 18.5187, \"longitude\": 73.9313, \"custid\": 19, \"status\": \"RUNNING\"}\n",
      "{\"busline\": \"00001\", \"key\": \"00001_ee3fb0da-1ca2-46f8-835d-0a52d3d18717\", \"timestamp\": \"2022-02-28 16:57:04.664480\", \"latitude\": 18.5187, \"longitude\": 73.9313, \"custid\": 20, \"status\": \"RUNNING\"}\n"
     ]
    },
    {
     "name": "stdout",
     "output_type": "stream",
     "text": [
      "{\"busline\": \"00001\", \"key\": \"00001_18bbeff1-c935-4aa3-8fab-e5e5f7f74ef8\", \"timestamp\": \"2022-02-28 16:57:07.680581\", \"latitude\": 18.5187, \"longitude\": 73.9313, \"custid\": 21, \"status\": \"BROKEN\"}\n",
      "{\"busline\": \"00001\", \"key\": \"00001_df33be70-ba85-4d57-9d05-9e6d02f497c8\", \"timestamp\": \"2022-02-28 16:57:10.681746\", \"latitude\": 18.5187, \"longitude\": 73.9313, \"custid\": 22, \"status\": \"RUNNING\"}\n",
      "{\"busline\": \"00001\", \"key\": \"00001_662d5c17-73a3-4004-aeac-79627e5081aa\", \"timestamp\": \"2022-02-28 16:57:13.697922\", \"latitude\": 18.5187, \"longitude\": 73.9313, \"custid\": 23, \"status\": \"RUNNING\"}\n",
      "{\"busline\": \"00001\", \"key\": \"00001_28b745af-8bda-44ff-9a8f-8e9078fb72b0\", \"timestamp\": \"2022-02-28 16:57:16.710069\", \"latitude\": 18.5187, \"longitude\": 73.9342, \"custid\": 1, \"status\": \"BROKEN\"}\n"
     ]
    },
    {
     "ename": "KeyboardInterrupt",
     "evalue": "",
     "output_type": "error",
     "traceback": [
      "\u001b[1;31m---------------------------------------------------------------------------\u001b[0m",
      "\u001b[1;31mKeyboardInterrupt\u001b[0m                         Traceback (most recent call last)",
      "\u001b[1;32m~\\AppData\\Local\\Temp/ipykernel_37024/1536046886.py\u001b[0m in \u001b[0;36m<module>\u001b[1;34m\u001b[0m\n\u001b[0;32m     54\u001b[0m         \u001b[1;31m#Close the file\u001b[0m\u001b[1;33m\u001b[0m\u001b[1;33m\u001b[0m\u001b[0m\n\u001b[0;32m     55\u001b[0m         \u001b[0msimulatorOutput\u001b[0m\u001b[1;33m.\u001b[0m\u001b[0mclose\u001b[0m\u001b[1;33m(\u001b[0m\u001b[1;33m)\u001b[0m\u001b[1;33m\u001b[0m\u001b[1;33m\u001b[0m\u001b[0m\n\u001b[1;32m---> 56\u001b[1;33m \u001b[0minit_simulator\u001b[0m\u001b[1;33m(\u001b[0m\u001b[0mcoordinates\u001b[0m\u001b[1;33m)\u001b[0m\u001b[1;33m\u001b[0m\u001b[1;33m\u001b[0m\u001b[0m\n\u001b[0m\u001b[0;32m     57\u001b[0m \u001b[1;33m\u001b[0m\u001b[0m\n",
      "\u001b[1;32m~\\AppData\\Local\\Temp/ipykernel_37024/1536046886.py\u001b[0m in \u001b[0;36minit_simulator\u001b[1;34m(coordinates)\u001b[0m\n\u001b[0;32m     44\u001b[0m \u001b[1;33m\u001b[0m\u001b[0m\n\u001b[0;32m     45\u001b[0m             \u001b[0mproducer\u001b[0m\u001b[1;33m.\u001b[0m\u001b[0msend\u001b[0m\u001b[1;33m(\u001b[0m\u001b[1;34m\"CustData\"\u001b[0m\u001b[1;33m,\u001b[0m\u001b[0mmessage\u001b[0m\u001b[1;33m.\u001b[0m\u001b[0mencode\u001b[0m\u001b[1;33m(\u001b[0m\u001b[1;34m'ascii'\u001b[0m\u001b[1;33m)\u001b[0m\u001b[1;33m)\u001b[0m\u001b[1;33m\u001b[0m\u001b[1;33m\u001b[0m\u001b[0m\n\u001b[1;32m---> 46\u001b[1;33m             \u001b[0mtime\u001b[0m\u001b[1;33m.\u001b[0m\u001b[0msleep\u001b[0m\u001b[1;33m(\u001b[0m\u001b[1;36m3\u001b[0m\u001b[1;33m)\u001b[0m\u001b[1;33m\u001b[0m\u001b[1;33m\u001b[0m\u001b[0m\n\u001b[0m\u001b[0;32m     47\u001b[0m \u001b[1;33m\u001b[0m\u001b[0m\n\u001b[0;32m     48\u001b[0m             \u001b[1;31m#if bus reaches last coordinate, start from beginning\u001b[0m\u001b[1;33m\u001b[0m\u001b[1;33m\u001b[0m\u001b[0m\n",
      "\u001b[1;31mKeyboardInterrupt\u001b[0m: "
     ]
    }
   ],
   "source": [
    "from kafka import KafkaProducer\n",
    "import json\n",
    "from datetime import datetime\n",
    "import uuid\n",
    "import time\n",
    "\n",
    "#Read Coordinates from JSON\n",
    "input_file = open('CustLocationData.json')\n",
    "json_array = json.load(input_file)\n",
    "coordinates = json_array['features'][0]['geometry']['coordinates']\n",
    "\n",
    "#Generate UUID\n",
    "def init_uuid():\n",
    "    return uuid.uuid4()\n",
    "\n",
    "#Kafka Producer\n",
    "producer = KafkaProducer(bootstrap_servers='localhost:9092')\n",
    "\n",
    "\n",
    "#Construct message and send it to Kafka\n",
    "data = {}\n",
    "data['busline'] = '00001'\n",
    "\n",
    "def init_simulator(coordinates):\n",
    "    i = 0\n",
    "    simulatorOutput = open(\"SimulatorOutput.txt\",\"a\")\n",
    "    try:\n",
    "        while i < len(coordinates):\n",
    "            data['key'] = data['busline'] + '_' + str(init_uuid())\n",
    "            data['timestamp'] = str(datetime.utcnow())\n",
    "            data['latitude'] = coordinates[i][0]\n",
    "            data['longitude'] = coordinates[i][1]\n",
    "            data['custid'] = coordinates[i][2]\n",
    "            if i % 10 == 0 :\n",
    "                data['status'] = \"BROKEN\"\n",
    "            else :\n",
    "                data['status'] = \"RUNNING\"\n",
    "            message = json.dumps(data)\n",
    "            print(message)\n",
    "            #write data in simulator output file\n",
    "            L = [message + \"\\n\"] \n",
    "            simulatorOutput.writelines(L)\n",
    "\n",
    "\n",
    "            producer.send(\"CustData\",message.encode('ascii'))\n",
    "            time.sleep(3)\n",
    "\n",
    "            #if bus reaches last coordinate, start from beginning\n",
    "            if i == len(coordinates)-1:\n",
    "                i = 0\n",
    "            else:\n",
    "                i += 1\n",
    "    finally:\n",
    "        #Close the file\n",
    "        simulatorOutput.close()\n",
    "init_simulator(coordinates)\n",
    "\n"
   ]
  },
  {
   "cell_type": "code",
   "execution_count": null,
   "id": "af093801",
   "metadata": {},
   "outputs": [],
   "source": []
  }
 ],
 "metadata": {
  "kernelspec": {
   "display_name": "Python 3 (ipykernel)",
   "language": "python",
   "name": "python3"
  },
  "language_info": {
   "codemirror_mode": {
    "name": "ipython",
    "version": 3
   },
   "file_extension": ".py",
   "mimetype": "text/x-python",
   "name": "python",
   "nbconvert_exporter": "python",
   "pygments_lexer": "ipython3",
   "version": "3.9.7"
  }
 },
 "nbformat": 4,
 "nbformat_minor": 5
}
